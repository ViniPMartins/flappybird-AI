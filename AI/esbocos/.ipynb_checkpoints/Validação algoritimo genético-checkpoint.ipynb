{
 "cells": [
  {
   "cell_type": "code",
   "execution_count": 1,
   "id": "7662c477",
   "metadata": {},
   "outputs": [],
   "source": [
    "import sys\n",
    "sys.path.insert(0, 'C:/Users/vinicius_martins/Documents/GitHub/flappybird/')"
   ]
  },
  {
   "cell_type": "code",
   "execution_count": 2,
   "id": "53f94948",
   "metadata": {},
   "outputs": [],
   "source": [
    "import AI as ai"
   ]
  },
  {
   "cell_type": "code",
   "execution_count": 3,
   "id": "18580ae5",
   "metadata": {},
   "outputs": [],
   "source": [
    "input_shape = 3"
   ]
  },
  {
   "cell_type": "code",
   "execution_count": 4,
   "id": "6e9136b3",
   "metadata": {},
   "outputs": [
    {
     "data": {
      "text/plain": [
       "[[0,\n",
       "  0,\n",
       "  [array([[1.1502951 ],\n",
       "          [0.53152   ],\n",
       "          [0.30904698]], dtype=float32),\n",
       "   array([0.40262184], dtype=float32)],\n",
       "  0],\n",
       " [1,\n",
       "  0,\n",
       "  [array([[-1.1765476 ],\n",
       "          [ 1.0864807 ],\n",
       "          [-0.32036233]], dtype=float32),\n",
       "   array([0.616553], dtype=float32)],\n",
       "  0],\n",
       " [2,\n",
       "  0,\n",
       "  [array([[-1.1039329 ],\n",
       "          [ 0.12460864],\n",
       "          [ 0.73841774]], dtype=float32),\n",
       "   array([-0.5532664], dtype=float32)],\n",
       "  0],\n",
       " [3,\n",
       "  0,\n",
       "  [array([[ 0.2542578],\n",
       "          [ 0.5589136],\n",
       "          [-0.9842095]], dtype=float32),\n",
       "   array([-0.8796099], dtype=float32)],\n",
       "  0],\n",
       " [4,\n",
       "  0,\n",
       "  [array([[-0.8446822 ],\n",
       "          [-0.51837116],\n",
       "          [-0.26079834]], dtype=float32),\n",
       "   array([-2.041927], dtype=float32)],\n",
       "  0],\n",
       " [5,\n",
       "  0,\n",
       "  [array([[ 0.93788135],\n",
       "          [ 0.08060098],\n",
       "          [-1.0484025 ]], dtype=float32),\n",
       "   array([-1.6298534], dtype=float32)],\n",
       "  0],\n",
       " [6,\n",
       "  0,\n",
       "  [array([[-0.0193665 ],\n",
       "          [-1.0984278 ],\n",
       "          [-0.28126943]], dtype=float32),\n",
       "   array([0.85858154], dtype=float32)],\n",
       "  0],\n",
       " [7,\n",
       "  0,\n",
       "  [array([[-0.69482327],\n",
       "          [-0.11116338],\n",
       "          [ 0.04718518]], dtype=float32),\n",
       "   array([0.35576534], dtype=float32)],\n",
       "  0],\n",
       " [8,\n",
       "  0,\n",
       "  [array([[ 0.1757642 ],\n",
       "          [-0.30993205],\n",
       "          [ 0.82681715]], dtype=float32),\n",
       "   array([0.00835557], dtype=float32)],\n",
       "  0],\n",
       " [9,\n",
       "  0,\n",
       "  [array([[-0.4395485 ],\n",
       "          [ 0.38064182],\n",
       "          [-0.65939206]], dtype=float32),\n",
       "   array([-0.4986206], dtype=float32)],\n",
       "  0]]"
      ]
     },
     "execution_count": 4,
     "metadata": {},
     "output_type": "execute_result"
    }
   ],
   "source": [
    "population = ai.create_new_population(10, input_shape)\n",
    "population"
   ]
  },
  {
   "cell_type": "code",
   "execution_count": 5,
   "id": "16ade21b",
   "metadata": {},
   "outputs": [],
   "source": [
    "fitness = 10\n",
    "population[0][1] += fitness"
   ]
  },
  {
   "cell_type": "code",
   "execution_count": 6,
   "id": "ecc665d3",
   "metadata": {},
   "outputs": [
    {
     "data": {
      "text/plain": [
       "[0,\n",
       " 10,\n",
       " [array([[1.1502951 ],\n",
       "         [0.53152   ],\n",
       "         [0.30904698]], dtype=float32),\n",
       "  array([0.40262184], dtype=float32)],\n",
       " 0]"
      ]
     },
     "execution_count": 6,
     "metadata": {},
     "output_type": "execute_result"
    }
   ],
   "source": [
    "population[0]"
   ]
  },
  {
   "cell_type": "code",
   "execution_count": 7,
   "id": "c2a16676",
   "metadata": {},
   "outputs": [
    {
     "data": {
      "text/plain": [
       "[5,\n",
       " 10,\n",
       " [array([[ 0.93788135],\n",
       "         [ 0.08060098],\n",
       "         [-1.0484025 ]], dtype=float32),\n",
       "  array([-1.6298534], dtype=float32)],\n",
       " 0]"
      ]
     },
     "execution_count": 7,
     "metadata": {},
     "output_type": "execute_result"
    }
   ],
   "source": [
    "fitness = 10\n",
    "population[5][1] += fitness\n",
    "population[5]"
   ]
  },
  {
   "cell_type": "code",
   "execution_count": 8,
   "id": "6c1bbc84",
   "metadata": {},
   "outputs": [
    {
     "name": "stdout",
     "output_type": "stream",
     "text": [
      "Mantendo: 2 melhores individuos \n",
      "Criando: 2 sobreviventes \n",
      "Criando: 6 novos individuos\n"
     ]
    }
   ],
   "source": [
    "new_population = ai.new_generation(population, input_shape)"
   ]
  },
  {
   "cell_type": "code",
   "execution_count": 9,
   "id": "5f001b43",
   "metadata": {},
   "outputs": [
    {
     "data": {
      "text/plain": [
       "[[0,\n",
       "  0,\n",
       "  [array([[1.1502951 ],\n",
       "          [0.53152   ],\n",
       "          [0.30904698]], dtype=float32),\n",
       "   array([0.40262184], dtype=float32)],\n",
       "  1],\n",
       " [1,\n",
       "  0,\n",
       "  [array([[-1.1765476 ],\n",
       "          [ 1.0864807 ],\n",
       "          [-0.32036233]], dtype=float32),\n",
       "   array([0.616553], dtype=float32)],\n",
       "  0],\n",
       " [2,\n",
       "  0,\n",
       "  [array([[-1.1039329 ],\n",
       "          [ 0.12460864],\n",
       "          [ 0.73841774]], dtype=float32),\n",
       "   array([-0.5532664], dtype=float32)],\n",
       "  0],\n",
       " [3,\n",
       "  0,\n",
       "  [array([[ 0.2542578],\n",
       "          [ 0.5589136],\n",
       "          [-0.9842095]], dtype=float32),\n",
       "   array([-0.8796099], dtype=float32)],\n",
       "  0],\n",
       " [4,\n",
       "  0,\n",
       "  [array([[-0.8446822 ],\n",
       "          [-0.51837116],\n",
       "          [-0.26079834]], dtype=float32),\n",
       "   array([-2.041927], dtype=float32)],\n",
       "  0],\n",
       " [1,\n",
       "  0,\n",
       "  [array([[ 0.93788135],\n",
       "          [ 0.08060098],\n",
       "          [-1.0484025 ]], dtype=float32),\n",
       "   array([-1.6298534], dtype=float32)],\n",
       "  1],\n",
       " [6,\n",
       "  0,\n",
       "  [array([[-0.0193665 ],\n",
       "          [-1.0984278 ],\n",
       "          [-0.28126943]], dtype=float32),\n",
       "   array([0.85858154], dtype=float32)],\n",
       "  0],\n",
       " [7,\n",
       "  0,\n",
       "  [array([[-0.69482327],\n",
       "          [-0.11116338],\n",
       "          [ 0.04718518]], dtype=float32),\n",
       "   array([0.35576534], dtype=float32)],\n",
       "  0],\n",
       " [8,\n",
       "  0,\n",
       "  [array([[ 0.1757642 ],\n",
       "          [-0.30993205],\n",
       "          [ 0.82681715]], dtype=float32),\n",
       "   array([0.00835557], dtype=float32)],\n",
       "  0],\n",
       " [9,\n",
       "  0,\n",
       "  [array([[-0.4395485 ],\n",
       "          [ 0.38064182],\n",
       "          [-0.65939206]], dtype=float32),\n",
       "   array([-0.4986206], dtype=float32)],\n",
       "  0]]"
      ]
     },
     "execution_count": 9,
     "metadata": {},
     "output_type": "execute_result"
    }
   ],
   "source": [
    "population"
   ]
  },
  {
   "cell_type": "code",
   "execution_count": 10,
   "id": "82b099cd",
   "metadata": {},
   "outputs": [
    {
     "data": {
      "text/plain": [
       "[[0,\n",
       "  0,\n",
       "  [array([[1.1502951 ],\n",
       "          [0.53152   ],\n",
       "          [0.30904698]], dtype=float32),\n",
       "   array([0.40262184], dtype=float32)],\n",
       "  1],\n",
       " [1,\n",
       "  0,\n",
       "  [array([[ 0.93788135],\n",
       "          [ 0.08060098],\n",
       "          [-1.0484025 ]], dtype=float32),\n",
       "   array([-1.6298534], dtype=float32)],\n",
       "  1]]"
      ]
     },
     "execution_count": 10,
     "metadata": {},
     "output_type": "execute_result"
    }
   ],
   "source": [
    "new_population[:2]"
   ]
  },
  {
   "cell_type": "code",
   "execution_count": 11,
   "id": "cd79189a",
   "metadata": {},
   "outputs": [],
   "source": [
    "from AI._algoritimo_genetico import make_parents, make_survivors, make_new_individuos"
   ]
  },
  {
   "cell_type": "code",
   "execution_count": 12,
   "id": "1fafe03b",
   "metadata": {},
   "outputs": [
    {
     "data": {
      "text/plain": [
       "[[0,\n",
       "  0,\n",
       "  [array([[-0.02566028],\n",
       "          [ 0.6344907 ],\n",
       "          [ 0.42750633]], dtype=float32),\n",
       "   array([-0.7100167], dtype=float32)],\n",
       "  0],\n",
       " [1,\n",
       "  0,\n",
       "  [array([[ 0.3095641 ],\n",
       "          [-0.95928097],\n",
       "          [-1.035088  ]], dtype=float32),\n",
       "   array([0.7323673], dtype=float32)],\n",
       "  0],\n",
       " [2,\n",
       "  0,\n",
       "  [array([[-0.7581034 ],\n",
       "          [ 0.00976717],\n",
       "          [-0.929392  ]], dtype=float32),\n",
       "   array([-1.5241913], dtype=float32)],\n",
       "  0],\n",
       " [3,\n",
       "  0,\n",
       "  [array([[-0.5765015 ],\n",
       "          [-0.68019485],\n",
       "          [-0.65754896]], dtype=float32),\n",
       "   array([0.24223046], dtype=float32)],\n",
       "  0],\n",
       " [4,\n",
       "  0,\n",
       "  [array([[-0.18683982],\n",
       "          [ 1.0837971 ],\n",
       "          [-0.85778344]], dtype=float32),\n",
       "   array([-0.46536013], dtype=float32)],\n",
       "  0],\n",
       " [5,\n",
       "  0,\n",
       "  [array([[-0.5452914],\n",
       "          [ 0.7649338],\n",
       "          [-0.9062017]], dtype=float32),\n",
       "   array([0.32237163], dtype=float32)],\n",
       "  0],\n",
       " [6,\n",
       "  0,\n",
       "  [array([[ 0.6753546 ],\n",
       "          [-0.8601773 ],\n",
       "          [ 0.44312143]], dtype=float32),\n",
       "   array([0.81248474], dtype=float32)],\n",
       "  0],\n",
       " [7,\n",
       "  0,\n",
       "  [array([[ 0.32408512],\n",
       "          [ 0.04947507],\n",
       "          [-1.1222256 ]], dtype=float32),\n",
       "   array([0.1747291], dtype=float32)],\n",
       "  0],\n",
       " [8,\n",
       "  0,\n",
       "  [array([[0.81760466],\n",
       "          [0.55917346],\n",
       "          [0.9549786 ]], dtype=float32),\n",
       "   array([0.04014249], dtype=float32)],\n",
       "  0],\n",
       " [9,\n",
       "  0,\n",
       "  [array([[0.4490701 ],\n",
       "          [0.2055775 ],\n",
       "          [0.14149308]], dtype=float32),\n",
       "   array([0.25567856], dtype=float32)],\n",
       "  0]]"
      ]
     },
     "execution_count": 12,
     "metadata": {},
     "output_type": "execute_result"
    }
   ],
   "source": [
    "population = ai.create_new_population(10, input_shape)\n",
    "population"
   ]
  },
  {
   "cell_type": "code",
   "execution_count": 13,
   "id": "bd36130a",
   "metadata": {},
   "outputs": [],
   "source": [
    "fitness = 10\n",
    "population[3][1] += fitness\n",
    "population[6][1] += fitness"
   ]
  },
  {
   "cell_type": "code",
   "execution_count": 14,
   "id": "0f696b0e",
   "metadata": {},
   "outputs": [
    {
     "data": {
      "text/plain": [
       "[6,\n",
       " 10,\n",
       " [array([[ 0.6753546 ],\n",
       "         [-0.8601773 ],\n",
       "         [ 0.44312143]], dtype=float32),\n",
       "  array([0.81248474], dtype=float32)],\n",
       " 0]"
      ]
     },
     "execution_count": 14,
     "metadata": {},
     "output_type": "execute_result"
    }
   ],
   "source": [
    "population[6]"
   ]
  },
  {
   "cell_type": "code",
   "execution_count": 15,
   "id": "64c98cb3",
   "metadata": {},
   "outputs": [
    {
     "data": {
      "text/plain": [
       "[[3,\n",
       "  10,\n",
       "  [array([[-0.5765015 ],\n",
       "          [-0.68019485],\n",
       "          [-0.65754896]], dtype=float32),\n",
       "   array([0.24223046], dtype=float32)],\n",
       "  0],\n",
       " [6,\n",
       "  10,\n",
       "  [array([[ 0.6753546 ],\n",
       "          [-0.8601773 ],\n",
       "          [ 0.44312143]], dtype=float32),\n",
       "   array([0.81248474], dtype=float32)],\n",
       "  0]]"
      ]
     },
     "execution_count": 15,
     "metadata": {},
     "output_type": "execute_result"
    }
   ],
   "source": [
    "population_sorted = sorted(population, key=lambda column: column[1], reverse=True)\n",
    "population_sorted[:2]"
   ]
  },
  {
   "cell_type": "code",
   "execution_count": 51,
   "id": "87b2180c",
   "metadata": {},
   "outputs": [
    {
     "data": {
      "text/plain": [
       "[[3,\n",
       "  10,\n",
       "  [array([[-0.5765015 ],\n",
       "          [-0.68019485],\n",
       "          [-0.65754896]], dtype=float32),\n",
       "   array([0.24223046], dtype=float32)],\n",
       "  0],\n",
       " [6,\n",
       "  10,\n",
       "  [array([[ 0.6753546 ],\n",
       "          [-0.8601773 ],\n",
       "          [ 0.44312143]], dtype=float32),\n",
       "   array([0.81248474], dtype=float32)],\n",
       "  0]]"
      ]
     },
     "execution_count": 51,
     "metadata": {},
     "output_type": "execute_result"
    }
   ],
   "source": [
    "elitism = 2\n",
    "parents = make_parents(population_sorted, elitism)\n",
    "parents"
   ]
  },
  {
   "cell_type": "code",
   "execution_count": 49,
   "id": "219bd54a",
   "metadata": {},
   "outputs": [
    {
     "data": {
      "text/plain": [
       "[[3,\n",
       "  10,\n",
       "  [array([[ 0.43588686],\n",
       "          [-0.86017728],\n",
       "          [ 0.44312143]]),\n",
       "   array([0.81248474])],\n",
       "  0],\n",
       " [6,\n",
       "  10,\n",
       "  [array([[ 0.6753546 ],\n",
       "          [-0.8601773 ],\n",
       "          [ 0.44312143]], dtype=float32),\n",
       "   array([0.81248474], dtype=float32)],\n",
       "  0]]"
      ]
     },
     "execution_count": 49,
     "metadata": {},
     "output_type": "execute_result"
    }
   ],
   "source": [
    "survivors = make_survivors(population_sorted, elitism, 0.2, 0.5, 0.1)\n",
    "survivors"
   ]
  },
  {
   "cell_type": "code",
   "execution_count": 53,
   "id": "ca843ca9",
   "metadata": {},
   "outputs": [],
   "source": [
    "import numpy as np"
   ]
  },
  {
   "cell_type": "code",
   "execution_count": 114,
   "id": "11a61632",
   "metadata": {},
   "outputs": [
    {
     "name": "stdout",
     "output_type": "stream",
     "text": [
      "0\n",
      "1\n"
     ]
    }
   ],
   "source": [
    "n_sobreviventes = 2\n",
    "print(0)\n",
    "print(np.random.randint(1, n_sobreviventes))"
   ]
  },
  {
   "cell_type": "code",
   "execution_count": 18,
   "id": "eb7333ae",
   "metadata": {},
   "outputs": [
    {
     "name": "stdout",
     "output_type": "stream",
     "text": [
      "10\n",
      "2\n",
      "2\n"
     ]
    }
   ],
   "source": [
    "n_population = len(population)\n",
    "n_parents = len(parents)\n",
    "n_survivors = len(survivors)\n",
    "print(n_population)\n",
    "print(n_parents)\n",
    "print(n_survivors)"
   ]
  },
  {
   "cell_type": "code",
   "execution_count": 19,
   "id": "e223e9fa",
   "metadata": {},
   "outputs": [
    {
     "data": {
      "text/plain": [
       "6"
      ]
     },
     "execution_count": 19,
     "metadata": {},
     "output_type": "execute_result"
    }
   ],
   "source": [
    "10-2-2"
   ]
  },
  {
   "cell_type": "code",
   "execution_count": 20,
   "id": "cd3c81ad",
   "metadata": {},
   "outputs": [
    {
     "data": {
      "text/plain": [
       "[[0,\n",
       "  0,\n",
       "  [array([[-0.0041306 ],\n",
       "          [-0.59044516],\n",
       "          [ 0.10251141]], dtype=float32),\n",
       "   array([-0.09703027], dtype=float32)],\n",
       "  0],\n",
       " [1,\n",
       "  0,\n",
       "  [array([[ 1.2044598 ],\n",
       "          [-0.47267812],\n",
       "          [ 0.02591169]], dtype=float32),\n",
       "   array([2.410226], dtype=float32)],\n",
       "  0],\n",
       " [2,\n",
       "  0,\n",
       "  [array([[-0.3926968 ],\n",
       "          [-0.95469594],\n",
       "          [-1.0478107 ]], dtype=float32),\n",
       "   array([-0.7241311], dtype=float32)],\n",
       "  0],\n",
       " [3,\n",
       "  0,\n",
       "  [array([[ 0.29549074],\n",
       "          [-0.17848265],\n",
       "          [ 0.34390008]], dtype=float32),\n",
       "   array([2.0704074], dtype=float32)],\n",
       "  0],\n",
       " [4,\n",
       "  0,\n",
       "  [array([[-0.9015922],\n",
       "          [ 0.8061811],\n",
       "          [-1.1477213]], dtype=float32),\n",
       "   array([0.6712494], dtype=float32)],\n",
       "  0],\n",
       " [5,\n",
       "  0,\n",
       "  [array([[1.064205 ],\n",
       "          [0.7860812],\n",
       "          [0.5656469]], dtype=float32),\n",
       "   array([-0.5486721], dtype=float32)],\n",
       "  0]]"
      ]
     },
     "execution_count": 20,
     "metadata": {},
     "output_type": "execute_result"
    }
   ],
   "source": [
    "new_individuos = make_new_individuos(input_shape, n_population, n_parents, n_survivors)\n",
    "new_individuos"
   ]
  },
  {
   "cell_type": "code",
   "execution_count": 21,
   "id": "276fe833",
   "metadata": {},
   "outputs": [
    {
     "data": {
      "text/plain": [
       "[[3,\n",
       "  10,\n",
       "  [array([[-0.5765015 ],\n",
       "          [-0.68019485],\n",
       "          [-0.65754896]], dtype=float32),\n",
       "   array([0.24223046], dtype=float32)],\n",
       "  0],\n",
       " [6,\n",
       "  10,\n",
       "  [array([[ 0.6753546 ],\n",
       "          [-0.8601773 ],\n",
       "          [ 0.44312143]], dtype=float32),\n",
       "   array([0.81248474], dtype=float32)],\n",
       "  0],\n",
       " [3,\n",
       "  10,\n",
       "  [array([[-0.57650149],\n",
       "          [-0.68019485],\n",
       "          [ 0.44312143]]),\n",
       "   array([0.81248474])],\n",
       "  0],\n",
       " [6,\n",
       "  10,\n",
       "  [array([[ 0.6753546 ],\n",
       "          [-0.8601773 ],\n",
       "          [ 0.44312143]], dtype=float32),\n",
       "   array([0.19190505], dtype=float32)],\n",
       "  0],\n",
       " [0,\n",
       "  0,\n",
       "  [array([[-0.0041306 ],\n",
       "          [-0.59044516],\n",
       "          [ 0.10251141]], dtype=float32),\n",
       "   array([-0.09703027], dtype=float32)],\n",
       "  0],\n",
       " [1,\n",
       "  0,\n",
       "  [array([[ 1.2044598 ],\n",
       "          [-0.47267812],\n",
       "          [ 0.02591169]], dtype=float32),\n",
       "   array([2.410226], dtype=float32)],\n",
       "  0],\n",
       " [2,\n",
       "  0,\n",
       "  [array([[-0.3926968 ],\n",
       "          [-0.95469594],\n",
       "          [-1.0478107 ]], dtype=float32),\n",
       "   array([-0.7241311], dtype=float32)],\n",
       "  0],\n",
       " [3,\n",
       "  0,\n",
       "  [array([[ 0.29549074],\n",
       "          [-0.17848265],\n",
       "          [ 0.34390008]], dtype=float32),\n",
       "   array([2.0704074], dtype=float32)],\n",
       "  0],\n",
       " [4,\n",
       "  0,\n",
       "  [array([[-0.9015922],\n",
       "          [ 0.8061811],\n",
       "          [-1.1477213]], dtype=float32),\n",
       "   array([0.6712494], dtype=float32)],\n",
       "  0],\n",
       " [5,\n",
       "  0,\n",
       "  [array([[1.064205 ],\n",
       "          [0.7860812],\n",
       "          [0.5656469]], dtype=float32),\n",
       "   array([-0.5486721], dtype=float32)],\n",
       "  0]]"
      ]
     },
     "execution_count": 21,
     "metadata": {},
     "output_type": "execute_result"
    }
   ],
   "source": [
    "new_generation = parents + survivors + new_individuos\n",
    "new_generation"
   ]
  },
  {
   "cell_type": "code",
   "execution_count": 22,
   "id": "405239ca",
   "metadata": {},
   "outputs": [],
   "source": [
    "from copy import deepcopy"
   ]
  },
  {
   "cell_type": "code",
   "execution_count": 23,
   "id": "07a43341",
   "metadata": {},
   "outputs": [
    {
     "data": {
      "text/plain": [
       "[[0,\n",
       "  0,\n",
       "  [array([[-0.02566028],\n",
       "          [ 0.6344907 ],\n",
       "          [ 0.42750633]], dtype=float32),\n",
       "   array([-0.7100167], dtype=float32)],\n",
       "  0],\n",
       " [1,\n",
       "  0,\n",
       "  [array([[ 0.3095641 ],\n",
       "          [-0.95928097],\n",
       "          [-1.035088  ]], dtype=float32),\n",
       "   array([0.7323673], dtype=float32)],\n",
       "  0]]"
      ]
     },
     "execution_count": 23,
     "metadata": {},
     "output_type": "execute_result"
    }
   ],
   "source": [
    "population[:2]"
   ]
  },
  {
   "cell_type": "code",
   "execution_count": 24,
   "id": "11bbee1f",
   "metadata": {},
   "outputs": [],
   "source": [
    "teste = deepcopy(population[:2])\n",
    "teste[0][1] += 10"
   ]
  },
  {
   "cell_type": "code",
   "execution_count": 25,
   "id": "a8537a2c",
   "metadata": {},
   "outputs": [
    {
     "data": {
      "text/plain": [
       "[[0,\n",
       "  10,\n",
       "  [array([[-0.02566028],\n",
       "          [ 0.6344907 ],\n",
       "          [ 0.42750633]], dtype=float32),\n",
       "   array([-0.7100167], dtype=float32)],\n",
       "  0],\n",
       " [1,\n",
       "  0,\n",
       "  [array([[ 0.3095641 ],\n",
       "          [-0.95928097],\n",
       "          [-1.035088  ]], dtype=float32),\n",
       "   array([0.7323673], dtype=float32)],\n",
       "  0]]"
      ]
     },
     "execution_count": 25,
     "metadata": {},
     "output_type": "execute_result"
    }
   ],
   "source": [
    "teste"
   ]
  },
  {
   "cell_type": "code",
   "execution_count": null,
   "id": "9f34f5a7",
   "metadata": {},
   "outputs": [],
   "source": []
  }
 ],
 "metadata": {
  "kernelspec": {
   "display_name": "Python 3 (ipykernel)",
   "language": "python",
   "name": "python3"
  },
  "language_info": {
   "codemirror_mode": {
    "name": "ipython",
    "version": 3
   },
   "file_extension": ".py",
   "mimetype": "text/x-python",
   "name": "python",
   "nbconvert_exporter": "python",
   "pygments_lexer": "ipython3",
   "version": "3.9.7"
  }
 },
 "nbformat": 4,
 "nbformat_minor": 5
}
