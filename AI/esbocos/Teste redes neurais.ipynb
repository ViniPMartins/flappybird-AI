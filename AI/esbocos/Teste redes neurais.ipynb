{
 "cells": [
  {
   "cell_type": "code",
   "execution_count": 1,
   "id": "24548b80",
   "metadata": {},
   "outputs": [],
   "source": [
    "import numpy as np"
   ]
  },
  {
   "cell_type": "code",
   "execution_count": 2,
   "id": "b6554334",
   "metadata": {},
   "outputs": [],
   "source": [
    "import sys\n",
    "sys.path.insert(0, 'C:/Users/vinicius_martins/Documents/GitHub/flappybird/')"
   ]
  },
  {
   "cell_type": "code",
   "execution_count": 3,
   "id": "c3c32837",
   "metadata": {},
   "outputs": [],
   "source": [
    "np.random.seed(150)\n",
    "X = np.random.randint(0,2,size=(100,3))\n",
    "y = np.random.randint(0,2,size=(100,1))"
   ]
  },
  {
   "cell_type": "code",
   "execution_count": 4,
   "id": "8168779b",
   "metadata": {},
   "outputs": [],
   "source": [
    "import AI"
   ]
  },
  {
   "cell_type": "code",
   "execution_count": 5,
   "id": "5a988879",
   "metadata": {},
   "outputs": [
    {
     "ename": "SyntaxError",
     "evalue": "invalid syntax (937456217.py, line 1)",
     "output_type": "error",
     "traceback": [
      "\u001b[1;36m  Cell \u001b[1;32mIn[5], line 1\u001b[1;36m\u001b[0m\n\u001b[1;33m    AI.\u001b[0m\n\u001b[1;37m       ^\u001b[0m\n\u001b[1;31mSyntaxError\u001b[0m\u001b[1;31m:\u001b[0m invalid syntax\n"
     ]
    }
   ],
   "source": [
    "AI."
   ]
  }
 ],
 "metadata": {
  "kernelspec": {
   "display_name": "Python 3 (ipykernel)",
   "language": "python",
   "name": "python3"
  },
  "language_info": {
   "codemirror_mode": {
    "name": "ipython",
    "version": 3
   },
   "file_extension": ".py",
   "mimetype": "text/x-python",
   "name": "python",
   "nbconvert_exporter": "python",
   "pygments_lexer": "ipython3",
   "version": "3.9.7"
  }
 },
 "nbformat": 4,
 "nbformat_minor": 5
}
