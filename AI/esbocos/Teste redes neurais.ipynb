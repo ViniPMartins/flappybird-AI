{
 "cells": [
  {
   "cell_type": "code",
   "execution_count": 1,
   "id": "24548b80",
   "metadata": {},
   "outputs": [],
   "source": [
    "import numpy as np"
   ]
  },
  {
   "cell_type": "code",
   "execution_count": 2,
   "id": "b6554334",
   "metadata": {},
   "outputs": [],
   "source": [
    "import sys\n",
    "sys.path.insert(0, 'C:/Users/vinicius_martins/Documents/GitHub/flappybird/')"
   ]
  },
  {
   "cell_type": "code",
   "execution_count": 3,
   "id": "c3c32837",
   "metadata": {},
   "outputs": [],
   "source": [
    "np.random.seed(150)\n",
    "X = np.random.randint(0,2,size=(1,3))\n",
    "y = np.random.randint(0,2,size=(100,1))"
   ]
  },
  {
   "cell_type": "code",
   "execution_count": 4,
   "id": "8168779b",
   "metadata": {},
   "outputs": [],
   "source": [
    "import AI"
   ]
  },
  {
   "cell_type": "code",
   "execution_count": 5,
   "id": "5a988879",
   "metadata": {},
   "outputs": [
    {
     "name": "stdout",
     "output_type": "stream",
     "text": [
      "Criando População. Quantidade:  100\n"
     ]
    }
   ],
   "source": [
    "population = AI.create_first_generation(100)"
   ]
  },
  {
   "cell_type": "code",
   "execution_count": 6,
   "id": "9bb36752",
   "metadata": {},
   "outputs": [
    {
     "data": {
      "text/plain": [
       "[0, 0, <keras.engine.sequential.Sequential at 0x243c7d40820>]"
      ]
     },
     "execution_count": 6,
     "metadata": {},
     "output_type": "execute_result"
    }
   ],
   "source": [
    "population[0]"
   ]
  },
  {
   "cell_type": "code",
   "execution_count": 7,
   "id": "3babd861",
   "metadata": {},
   "outputs": [],
   "source": [
    "fitness = .1\n",
    "population[0][1] += fitness"
   ]
  },
  {
   "cell_type": "code",
   "execution_count": 8,
   "id": "a7a40de4",
   "metadata": {},
   "outputs": [
    {
     "data": {
      "text/plain": [
       "0.1"
      ]
     },
     "execution_count": 8,
     "metadata": {},
     "output_type": "execute_result"
    }
   ],
   "source": [
    "population[0][1]"
   ]
  },
  {
   "cell_type": "code",
   "execution_count": 9,
   "id": "12c592f7",
   "metadata": {},
   "outputs": [],
   "source": [
    "dados = [[0,0,1]]"
   ]
  },
  {
   "cell_type": "code",
   "execution_count": 10,
   "id": "f18e0a08",
   "metadata": {},
   "outputs": [],
   "source": [
    "prediction = population[0][2].predict(dados, verbose=0)"
   ]
  },
  {
   "cell_type": "code",
   "execution_count": 11,
   "id": "62ac600d",
   "metadata": {},
   "outputs": [
    {
     "data": {
      "text/plain": [
       "0.19221255"
      ]
     },
     "execution_count": 11,
     "metadata": {},
     "output_type": "execute_result"
    }
   ],
   "source": [
    "prediction[0][0]"
   ]
  },
  {
   "cell_type": "code",
   "execution_count": 12,
   "id": "279a1a7f",
   "metadata": {},
   "outputs": [
    {
     "data": {
      "text/plain": [
       "[0, 0.1, <keras.engine.sequential.Sequential at 0x243c7d40820>]"
      ]
     },
     "execution_count": 12,
     "metadata": {},
     "output_type": "execute_result"
    }
   ],
   "source": [
    "population[0]"
   ]
  },
  {
   "cell_type": "code",
   "execution_count": 13,
   "id": "072e1ff7",
   "metadata": {},
   "outputs": [],
   "source": [
    "population_2 = AI.new_generation(population)"
   ]
  },
  {
   "cell_type": "code",
   "execution_count": 14,
   "id": "307c7d22",
   "metadata": {},
   "outputs": [
    {
     "data": {
      "text/plain": [
       "[0, 0.1, <keras.engine.sequential.Sequential at 0x243c7d40820>]"
      ]
     },
     "execution_count": 14,
     "metadata": {},
     "output_type": "execute_result"
    }
   ],
   "source": [
    "population_2[0]"
   ]
  },
  {
   "cell_type": "code",
   "execution_count": 15,
   "id": "3dfeee7e",
   "metadata": {},
   "outputs": [],
   "source": [
    "import tensorflow as tf"
   ]
  },
  {
   "cell_type": "code",
   "execution_count": 19,
   "id": "470ed0ee",
   "metadata": {},
   "outputs": [],
   "source": [
    "dados = tf.convert_to_tensor([[0,0,1]])"
   ]
  },
  {
   "cell_type": "code",
   "execution_count": 20,
   "id": "527dde20",
   "metadata": {},
   "outputs": [],
   "source": [
    "# Definir a função predict_function com @tf.function\n",
    "@tf.function\n",
    "def predict_function(model, input_data):\n",
    "    return model(input_data, training=False)"
   ]
  },
  {
   "cell_type": "code",
   "execution_count": 23,
   "id": "07d153bb",
   "metadata": {},
   "outputs": [],
   "source": [
    "pred = predict_function(population_2[0][2], dados)"
   ]
  },
  {
   "cell_type": "code",
   "execution_count": 31,
   "id": "4511c525",
   "metadata": {},
   "outputs": [
    {
     "data": {
      "text/plain": [
       "0.19221255"
      ]
     },
     "execution_count": 31,
     "metadata": {},
     "output_type": "execute_result"
    }
   ],
   "source": [
    "pred.numpy()[0][0]"
   ]
  }
 ],
 "metadata": {
  "kernelspec": {
   "display_name": "Python 3 (ipykernel)",
   "language": "python",
   "name": "python3"
  },
  "language_info": {
   "codemirror_mode": {
    "name": "ipython",
    "version": 3
   },
   "file_extension": ".py",
   "mimetype": "text/x-python",
   "name": "python",
   "nbconvert_exporter": "python",
   "pygments_lexer": "ipython3",
   "version": "3.9.7"
  }
 },
 "nbformat": 4,
 "nbformat_minor": 5
}
