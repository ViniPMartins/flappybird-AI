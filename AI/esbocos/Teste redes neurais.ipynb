{
 "cells": [
  {
   "cell_type": "code",
   "execution_count": 1,
   "id": "24548b80",
   "metadata": {},
   "outputs": [],
   "source": [
    "import numpy as np"
   ]
  },
  {
   "cell_type": "code",
   "execution_count": 2,
   "id": "b6554334",
   "metadata": {},
   "outputs": [],
   "source": [
    "import sys\n",
    "sys.path.insert(0, 'C:/Users/vinicius_martins/Documents/GitHub/flappybird/')"
   ]
  },
  {
   "cell_type": "code",
   "execution_count": 3,
   "id": "c3c32837",
   "metadata": {},
   "outputs": [],
   "source": [
    "np.random.seed(150)\n",
    "X = np.random.randint(0,2,size=(100,3))\n",
    "y = np.random.randint(0,2,size=(100,1))"
   ]
  },
  {
   "cell_type": "code",
   "execution_count": 4,
   "id": "8168779b",
   "metadata": {},
   "outputs": [],
   "source": [
    "import AI"
   ]
  },
  {
   "cell_type": "code",
   "execution_count": null,
   "id": "5a988879",
   "metadata": {},
   "outputs": [],
   "source": [
    "population = AI.create_new_population(100, 3)"
   ]
  },
  {
   "cell_type": "code",
   "execution_count": null,
   "id": "9bb36752",
   "metadata": {},
   "outputs": [],
   "source": [
    "population[0]"
   ]
  },
  {
   "cell_type": "code",
   "execution_count": null,
   "id": "3babd861",
   "metadata": {},
   "outputs": [],
   "source": [
    "fitness = .1\n",
    "population[0][1] += fitness"
   ]
  },
  {
   "cell_type": "code",
   "execution_count": null,
   "id": "a7a40de4",
   "metadata": {},
   "outputs": [],
   "source": [
    "population[0][1]"
   ]
  },
  {
   "cell_type": "code",
   "execution_count": null,
   "id": "279a1a7f",
   "metadata": {},
   "outputs": [],
   "source": [
    "population[0]"
   ]
  },
  {
   "cell_type": "code",
   "execution_count": null,
   "id": "072e1ff7",
   "metadata": {},
   "outputs": [],
   "source": [
    "population_2 = AI.new_generation(population, 3)"
   ]
  },
  {
   "cell_type": "code",
   "execution_count": null,
   "id": "307c7d22",
   "metadata": {},
   "outputs": [],
   "source": [
    "population_2[0]"
   ]
  },
  {
   "cell_type": "code",
   "execution_count": 10,
   "id": "3dfeee7e",
   "metadata": {},
   "outputs": [],
   "source": [
    "import tensorflow as tf"
   ]
  },
  {
   "cell_type": "code",
   "execution_count": null,
   "id": "470ed0ee",
   "metadata": {},
   "outputs": [],
   "source": [
    "dados = tf.convert_to_tensor(X)"
   ]
  },
  {
   "cell_type": "code",
   "execution_count": null,
   "id": "527dde20",
   "metadata": {},
   "outputs": [],
   "source": [
    "# Definir a função predict_function com @tf.function\n",
    "@tf.function\n",
    "def predict_function(model, input_data):\n",
    "    return model(input_data, training=False)\n"
   ]
  },
  {
   "cell_type": "code",
   "execution_count": null,
   "id": "07d153bb",
   "metadata": {},
   "outputs": [],
   "source": [
    "pred = predict_function(population_2[0][2], dados)"
   ]
  },
  {
   "cell_type": "code",
   "execution_count": null,
   "id": "8476aa19",
   "metadata": {},
   "outputs": [],
   "source": []
  },
  {
   "cell_type": "code",
   "execution_count": null,
   "id": "4511c525",
   "metadata": {},
   "outputs": [],
   "source": [
    "pred.numpy()[0][0]"
   ]
  },
  {
   "cell_type": "code",
   "execution_count": null,
   "id": "47668c00",
   "metadata": {},
   "outputs": [],
   "source": [
    "for i in range(len(X)):\n",
    "    tensor = tf.convert_to_tensor([X[i]])\n",
    "    model = population[i][2]\n",
    "    pred = predict_function(model, tensor)\n",
    "    print(pred.numpy()[0][0])"
   ]
  },
  {
   "cell_type": "code",
   "execution_count": null,
   "id": "735b8558",
   "metadata": {},
   "outputs": [],
   "source": [
    "population[0][2]"
   ]
  },
  {
   "cell_type": "markdown",
   "id": "9ff998a8",
   "metadata": {},
   "source": [
    "Testando alterar o método create_model para retornar só os pesos das reder neurais"
   ]
  },
  {
   "cell_type": "code",
   "execution_count": 8,
   "id": "9e7024f3",
   "metadata": {},
   "outputs": [],
   "source": [
    "from tensorflow import keras"
   ]
  },
  {
   "cell_type": "code",
   "execution_count": null,
   "id": "9fb70054",
   "metadata": {},
   "outputs": [],
   "source": [
    "def create_model_to_predict(input_shape):\n",
    "    model = keras.Sequential([\n",
    "        keras.layers.Dense(16, input_shape=(input_shape,), activation='relu'),\n",
    "        keras.layers.Dense(8, activation='relu'),\n",
    "        keras.layers.Dense(1, activation='sigmoid')\n",
    "    ])\n",
    "\n",
    "    return model\n",
    "\n",
    "def create_model(input_shape):\n",
    "    model = keras.Sequential([\n",
    "        keras.layers.Dense(16, input_shape=(input_shape,), activation='relu'),\n",
    "        keras.layers.Dense(8, activation='relu'),\n",
    "        keras.layers.Dense(1, activation='sigmoid')\n",
    "    ])\n",
    "\n",
    "    return model.get_weights()\n",
    "\n",
    "def create_first_generation(num_population):\n",
    "    population = np.empty(num_population, dtype=object)\n",
    "\n",
    "    for i in range(num_population):\n",
    "        model = create_model(3)\n",
    "        init_score = 0\n",
    "        population[i] = np.array([i, init_score, model], dtype=object)\n",
    "        \n",
    "    return population"
   ]
  },
  {
   "cell_type": "code",
   "execution_count": null,
   "id": "ff97d74a",
   "metadata": {},
   "outputs": [],
   "source": [
    "new_pop = create_first_generation(100)\n",
    "print(new_pop.shape)\n",
    "new_pop"
   ]
  },
  {
   "cell_type": "code",
   "execution_count": null,
   "id": "cfa044b2",
   "metadata": {},
   "outputs": [],
   "source": [
    "new_pop[0][2]"
   ]
  },
  {
   "cell_type": "code",
   "execution_count": 5,
   "id": "7cda8b7d",
   "metadata": {},
   "outputs": [],
   "source": [
    "model = AI.create_model(3)"
   ]
  },
  {
   "cell_type": "code",
   "execution_count": 11,
   "id": "1931543d",
   "metadata": {},
   "outputs": [],
   "source": [
    "# Definir a função predict_function com @tf.function\n",
    "@tf.function\n",
    "def predict_function(model, input_data):\n",
    "    return model(input_data, training=False)"
   ]
  },
  {
   "cell_type": "code",
   "execution_count": null,
   "id": "1c559457",
   "metadata": {},
   "outputs": [],
   "source": [
    "for i in range(len(X)):\n",
    "    tensor = tf.convert_to_tensor([X[i]])\n",
    "    weights = new_pop[i][2]\n",
    "    model.set_weights(weights)\n",
    "    pred = predict_function(model, tensor)\n",
    "    print(pred.numpy()[0][0])"
   ]
  },
  {
   "cell_type": "code",
   "execution_count": 15,
   "id": "9306ea46",
   "metadata": {},
   "outputs": [
    {
     "data": {
      "text/plain": [
       "array([0, 0, 1])"
      ]
     },
     "execution_count": 15,
     "metadata": {},
     "output_type": "execute_result"
    }
   ],
   "source": [
    "X[0]"
   ]
  },
  {
   "cell_type": "code",
   "execution_count": 18,
   "id": "f3bb72c8",
   "metadata": {},
   "outputs": [
    {
     "name": "stdout",
     "output_type": "stream",
     "text": [
      "1/1 [==============================] - 0s 18ms/step\n",
      "0\n"
     ]
    },
    {
     "data": {
      "text/plain": [
       "array([[0.26880673, 0.09046911]], dtype=float32)"
      ]
     },
     "execution_count": 18,
     "metadata": {},
     "output_type": "execute_result"
    }
   ],
   "source": [
    "tensor = tf.convert_to_tensor([X[0]])\n",
    "prediction = model.predict(tensor)\n",
    "\n",
    "print(np.argmax(prediction))\n",
    "prediction"
   ]
  }
 ],
 "metadata": {
  "kernelspec": {
   "display_name": "Python 3 (ipykernel)",
   "language": "python",
   "name": "python3"
  },
  "language_info": {
   "codemirror_mode": {
    "name": "ipython",
    "version": 3
   },
   "file_extension": ".py",
   "mimetype": "text/x-python",
   "name": "python",
   "nbconvert_exporter": "python",
   "pygments_lexer": "ipython3",
   "version": "3.9.7"
  }
 },
 "nbformat": 4,
 "nbformat_minor": 5
}
