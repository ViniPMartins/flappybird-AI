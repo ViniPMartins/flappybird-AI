{
 "cells": [
  {
   "cell_type": "code",
   "execution_count": 1,
   "id": "55efc07f",
   "metadata": {},
   "outputs": [],
   "source": [
    "import sys\n",
    "sys.path.insert(0, 'C:/Users/vinicius_martins/Documents/GitHub/flappybird/')"
   ]
  },
  {
   "cell_type": "code",
   "execution_count": 2,
   "id": "b958d345",
   "metadata": {},
   "outputs": [],
   "source": [
    "import AI as ai"
   ]
  },
  {
   "cell_type": "code",
   "execution_count": 3,
   "id": "f2e76ce1",
   "metadata": {},
   "outputs": [],
   "source": [
    "input_shape = 3"
   ]
  },
  {
   "cell_type": "code",
   "execution_count": 4,
   "id": "87ac97be",
   "metadata": {},
   "outputs": [
    {
     "data": {
      "text/plain": [
       "[[0,\n",
       "  0,\n",
       "  [array([[1.1502951 ],\n",
       "          [0.53152   ],\n",
       "          [0.30904698]], dtype=float32),\n",
       "   array([0.40262184], dtype=float32)],\n",
       "  0],\n",
       " [1,\n",
       "  0,\n",
       "  [array([[-1.1765476 ],\n",
       "          [ 1.0864807 ],\n",
       "          [-0.32036233]], dtype=float32),\n",
       "   array([0.616553], dtype=float32)],\n",
       "  0],\n",
       " [2,\n",
       "  0,\n",
       "  [array([[-1.1039329 ],\n",
       "          [ 0.12460864],\n",
       "          [ 0.73841774]], dtype=float32),\n",
       "   array([-0.5532664], dtype=float32)],\n",
       "  0],\n",
       " [3,\n",
       "  0,\n",
       "  [array([[ 0.2542578],\n",
       "          [ 0.5589136],\n",
       "          [-0.9842095]], dtype=float32),\n",
       "   array([-0.8796099], dtype=float32)],\n",
       "  0],\n",
       " [4,\n",
       "  0,\n",
       "  [array([[-0.8446822 ],\n",
       "          [-0.51837116],\n",
       "          [-0.26079834]], dtype=float32),\n",
       "   array([-2.041927], dtype=float32)],\n",
       "  0],\n",
       " [5,\n",
       "  0,\n",
       "  [array([[ 0.93788135],\n",
       "          [ 0.08060098],\n",
       "          [-1.0484025 ]], dtype=float32),\n",
       "   array([-1.6298534], dtype=float32)],\n",
       "  0],\n",
       " [6,\n",
       "  0,\n",
       "  [array([[-0.0193665 ],\n",
       "          [-1.0984278 ],\n",
       "          [-0.28126943]], dtype=float32),\n",
       "   array([0.85858154], dtype=float32)],\n",
       "  0],\n",
       " [7,\n",
       "  0,\n",
       "  [array([[-0.69482327],\n",
       "          [-0.11116338],\n",
       "          [ 0.04718518]], dtype=float32),\n",
       "   array([0.35576534], dtype=float32)],\n",
       "  0],\n",
       " [8,\n",
       "  0,\n",
       "  [array([[ 0.1757642 ],\n",
       "          [-0.30993205],\n",
       "          [ 0.82681715]], dtype=float32),\n",
       "   array([0.00835557], dtype=float32)],\n",
       "  0],\n",
       " [9,\n",
       "  0,\n",
       "  [array([[-0.4395485 ],\n",
       "          [ 0.38064182],\n",
       "          [-0.65939206]], dtype=float32),\n",
       "   array([-0.4986206], dtype=float32)],\n",
       "  0]]"
      ]
     },
     "execution_count": 4,
     "metadata": {},
     "output_type": "execute_result"
    }
   ],
   "source": [
    "population = ai.create_new_population(10, input_shape)\n",
    "population"
   ]
  },
  {
   "cell_type": "code",
   "execution_count": 5,
   "id": "ffdc8fa1",
   "metadata": {},
   "outputs": [],
   "source": [
    "fitness = 10\n",
    "population[0][1] += fitness"
   ]
  },
  {
   "cell_type": "code",
   "execution_count": 6,
   "id": "e4392ee7",
   "metadata": {},
   "outputs": [
    {
     "data": {
      "text/plain": [
       "[0,\n",
       " 10,\n",
       " [array([[1.1502951 ],\n",
       "         [0.53152   ],\n",
       "         [0.30904698]], dtype=float32),\n",
       "  array([0.40262184], dtype=float32)],\n",
       " 0]"
      ]
     },
     "execution_count": 6,
     "metadata": {},
     "output_type": "execute_result"
    }
   ],
   "source": [
    "population[0]"
   ]
  },
  {
   "cell_type": "code",
   "execution_count": 7,
   "id": "1a313b47",
   "metadata": {},
   "outputs": [
    {
     "data": {
      "text/plain": [
       "[5,\n",
       " 10,\n",
       " [array([[ 0.93788135],\n",
       "         [ 0.08060098],\n",
       "         [-1.0484025 ]], dtype=float32),\n",
       "  array([-1.6298534], dtype=float32)],\n",
       " 0]"
      ]
     },
     "execution_count": 7,
     "metadata": {},
     "output_type": "execute_result"
    }
   ],
   "source": [
    "fitness = 10\n",
    "population[5][1] += fitness\n",
    "population[5]"
   ]
  },
  {
   "cell_type": "code",
   "execution_count": 8,
   "id": "2c3630c2",
   "metadata": {},
   "outputs": [
    {
     "name": "stdout",
     "output_type": "stream",
     "text": [
      "Mantendo: 2 melhores individuos \n",
      "Criando: 2 sobreviventes \n",
      "Criando: 6 novos individuos\n"
     ]
    }
   ],
   "source": [
    "new_population = ai.new_generation(population, input_shape)"
   ]
  },
  {
   "cell_type": "code",
   "execution_count": 9,
   "id": "1c46d909",
   "metadata": {},
   "outputs": [
    {
     "data": {
      "text/plain": [
       "[[0,\n",
       "  0,\n",
       "  [array([[1.1502951 ],\n",
       "          [0.53152   ],\n",
       "          [0.30904698]], dtype=float32),\n",
       "   array([0.40262184], dtype=float32)],\n",
       "  1],\n",
       " [1,\n",
       "  0,\n",
       "  [array([[-1.1765476 ],\n",
       "          [ 1.0864807 ],\n",
       "          [-0.32036233]], dtype=float32),\n",
       "   array([0.616553], dtype=float32)],\n",
       "  0],\n",
       " [2,\n",
       "  0,\n",
       "  [array([[-1.1039329 ],\n",
       "          [ 0.12460864],\n",
       "          [ 0.73841774]], dtype=float32),\n",
       "   array([-0.5532664], dtype=float32)],\n",
       "  0],\n",
       " [3,\n",
       "  0,\n",
       "  [array([[ 0.2542578],\n",
       "          [ 0.5589136],\n",
       "          [-0.9842095]], dtype=float32),\n",
       "   array([-0.8796099], dtype=float32)],\n",
       "  0],\n",
       " [4,\n",
       "  0,\n",
       "  [array([[-0.8446822 ],\n",
       "          [-0.51837116],\n",
       "          [-0.26079834]], dtype=float32),\n",
       "   array([-2.041927], dtype=float32)],\n",
       "  0],\n",
       " [1,\n",
       "  0,\n",
       "  [array([[ 0.93788135],\n",
       "          [ 0.08060098],\n",
       "          [-1.0484025 ]], dtype=float32),\n",
       "   array([-1.6298534], dtype=float32)],\n",
       "  1],\n",
       " [6,\n",
       "  0,\n",
       "  [array([[-0.0193665 ],\n",
       "          [-1.0984278 ],\n",
       "          [-0.28126943]], dtype=float32),\n",
       "   array([0.85858154], dtype=float32)],\n",
       "  0],\n",
       " [7,\n",
       "  0,\n",
       "  [array([[-0.69482327],\n",
       "          [-0.11116338],\n",
       "          [ 0.04718518]], dtype=float32),\n",
       "   array([0.35576534], dtype=float32)],\n",
       "  0],\n",
       " [8,\n",
       "  0,\n",
       "  [array([[ 0.1757642 ],\n",
       "          [-0.30993205],\n",
       "          [ 0.82681715]], dtype=float32),\n",
       "   array([0.00835557], dtype=float32)],\n",
       "  0],\n",
       " [9,\n",
       "  0,\n",
       "  [array([[-0.4395485 ],\n",
       "          [ 0.38064182],\n",
       "          [-0.65939206]], dtype=float32),\n",
       "   array([-0.4986206], dtype=float32)],\n",
       "  0]]"
      ]
     },
     "execution_count": 9,
     "metadata": {},
     "output_type": "execute_result"
    }
   ],
   "source": [
    "population"
   ]
  },
  {
   "cell_type": "code",
   "execution_count": 10,
   "id": "05172e23",
   "metadata": {},
   "outputs": [
    {
     "data": {
      "text/plain": [
       "[[0,\n",
       "  0,\n",
       "  [array([[1.1502951 ],\n",
       "          [0.53152   ],\n",
       "          [0.30904698]], dtype=float32),\n",
       "   array([0.40262184], dtype=float32)],\n",
       "  1],\n",
       " [1,\n",
       "  0,\n",
       "  [array([[ 0.93788135],\n",
       "          [ 0.08060098],\n",
       "          [-1.0484025 ]], dtype=float32),\n",
       "   array([-1.6298534], dtype=float32)],\n",
       "  1]]"
      ]
     },
     "execution_count": 10,
     "metadata": {},
     "output_type": "execute_result"
    }
   ],
   "source": [
    "new_population[:2]"
   ]
  },
  {
   "cell_type": "code",
   "execution_count": 214,
   "id": "924996fb",
   "metadata": {},
   "outputs": [],
   "source": [
    "from AI._algoritimo_genetico import make_parents, make_survivors, make_new_individuos, reset_scores"
   ]
  },
  {
   "cell_type": "code",
   "execution_count": 12,
   "id": "345c0ece",
   "metadata": {},
   "outputs": [
    {
     "data": {
      "text/plain": [
       "[[0,\n",
       "  0,\n",
       "  [array([[-0.02566028],\n",
       "          [ 0.6344907 ],\n",
       "          [ 0.42750633]], dtype=float32),\n",
       "   array([-0.7100167], dtype=float32)],\n",
       "  0],\n",
       " [1,\n",
       "  0,\n",
       "  [array([[ 0.3095641 ],\n",
       "          [-0.95928097],\n",
       "          [-1.035088  ]], dtype=float32),\n",
       "   array([0.7323673], dtype=float32)],\n",
       "  0],\n",
       " [2,\n",
       "  0,\n",
       "  [array([[-0.7581034 ],\n",
       "          [ 0.00976717],\n",
       "          [-0.929392  ]], dtype=float32),\n",
       "   array([-1.5241913], dtype=float32)],\n",
       "  0],\n",
       " [3,\n",
       "  0,\n",
       "  [array([[-0.5765015 ],\n",
       "          [-0.68019485],\n",
       "          [-0.65754896]], dtype=float32),\n",
       "   array([0.24223046], dtype=float32)],\n",
       "  0],\n",
       " [4,\n",
       "  0,\n",
       "  [array([[-0.18683982],\n",
       "          [ 1.0837971 ],\n",
       "          [-0.85778344]], dtype=float32),\n",
       "   array([-0.46536013], dtype=float32)],\n",
       "  0],\n",
       " [5,\n",
       "  0,\n",
       "  [array([[-0.5452914],\n",
       "          [ 0.7649338],\n",
       "          [-0.9062017]], dtype=float32),\n",
       "   array([0.32237163], dtype=float32)],\n",
       "  0],\n",
       " [6,\n",
       "  0,\n",
       "  [array([[ 0.6753546 ],\n",
       "          [-0.8601773 ],\n",
       "          [ 0.44312143]], dtype=float32),\n",
       "   array([0.81248474], dtype=float32)],\n",
       "  0],\n",
       " [7,\n",
       "  0,\n",
       "  [array([[ 0.32408512],\n",
       "          [ 0.04947507],\n",
       "          [-1.1222256 ]], dtype=float32),\n",
       "   array([0.1747291], dtype=float32)],\n",
       "  0],\n",
       " [8,\n",
       "  0,\n",
       "  [array([[0.81760466],\n",
       "          [0.55917346],\n",
       "          [0.9549786 ]], dtype=float32),\n",
       "   array([0.04014249], dtype=float32)],\n",
       "  0],\n",
       " [9,\n",
       "  0,\n",
       "  [array([[0.4490701 ],\n",
       "          [0.2055775 ],\n",
       "          [0.14149308]], dtype=float32),\n",
       "   array([0.25567856], dtype=float32)],\n",
       "  0]]"
      ]
     },
     "execution_count": 12,
     "metadata": {},
     "output_type": "execute_result"
    }
   ],
   "source": [
    "population = ai.create_new_population(10, input_shape)\n",
    "population"
   ]
  },
  {
   "cell_type": "code",
   "execution_count": 13,
   "id": "e84de259",
   "metadata": {},
   "outputs": [],
   "source": [
    "fitness = 10\n",
    "population[3][1] += fitness\n",
    "population[6][1] += fitness"
   ]
  },
  {
   "cell_type": "code",
   "execution_count": 14,
   "id": "dd6942d8",
   "metadata": {},
   "outputs": [
    {
     "data": {
      "text/plain": [
       "[6,\n",
       " 10,\n",
       " [array([[ 0.6753546 ],\n",
       "         [-0.8601773 ],\n",
       "         [ 0.44312143]], dtype=float32),\n",
       "  array([0.81248474], dtype=float32)],\n",
       " 0]"
      ]
     },
     "execution_count": 14,
     "metadata": {},
     "output_type": "execute_result"
    }
   ],
   "source": [
    "population[6]"
   ]
  },
  {
   "cell_type": "code",
   "execution_count": 15,
   "id": "63a161a6",
   "metadata": {},
   "outputs": [
    {
     "data": {
      "text/plain": [
       "[[3,\n",
       "  10,\n",
       "  [array([[-0.5765015 ],\n",
       "          [-0.68019485],\n",
       "          [-0.65754896]], dtype=float32),\n",
       "   array([0.24223046], dtype=float32)],\n",
       "  0],\n",
       " [6,\n",
       "  10,\n",
       "  [array([[ 0.6753546 ],\n",
       "          [-0.8601773 ],\n",
       "          [ 0.44312143]], dtype=float32),\n",
       "   array([0.81248474], dtype=float32)],\n",
       "  0]]"
      ]
     },
     "execution_count": 15,
     "metadata": {},
     "output_type": "execute_result"
    }
   ],
   "source": [
    "population_sorted = sorted(population, key=lambda column: column[1], reverse=True)\n",
    "population_sorted[:2]"
   ]
  },
  {
   "cell_type": "code",
   "execution_count": 210,
   "id": "083b3997",
   "metadata": {},
   "outputs": [
    {
     "data": {
      "text/plain": [
       "[[3,\n",
       "  10,\n",
       "  [array([[-0.5765015 ],\n",
       "          [-0.68019485],\n",
       "          [-0.65754896]], dtype=float32),\n",
       "   array([0.24223046], dtype=float32)],\n",
       "  0],\n",
       " [6,\n",
       "  10,\n",
       "  [array([[ 0.6753546 ],\n",
       "          [-0.8601773 ],\n",
       "          [ 0.44312143]], dtype=float32),\n",
       "   array([0.81248474], dtype=float32)],\n",
       "  0]]"
      ]
     },
     "execution_count": 210,
     "metadata": {},
     "output_type": "execute_result"
    }
   ],
   "source": [
    "elitism = 2\n",
    "parents = make_parents(population_sorted, elitism)\n",
    "parents"
   ]
  },
  {
   "cell_type": "code",
   "execution_count": 212,
   "id": "e88ee8ce",
   "metadata": {},
   "outputs": [
    {
     "data": {
      "text/plain": [
       "[[3,\n",
       "  10,\n",
       "  [array([[-0.57650149],\n",
       "          [-0.68019485],\n",
       "          [ 0.44312143]]),\n",
       "   array([0.81248474])],\n",
       "  0],\n",
       " [6,\n",
       "  10,\n",
       "  [array([[-0.57650149],\n",
       "          [-0.86017728],\n",
       "          [ 0.44312143]]),\n",
       "   array([0.81248474])],\n",
       "  0]]"
      ]
     },
     "execution_count": 212,
     "metadata": {},
     "output_type": "execute_result"
    }
   ],
   "source": [
    "survivors = make_survivors(population_sorted, elitism, 0.2, 0.5, 0.1)\n",
    "survivors"
   ]
  },
  {
   "cell_type": "code",
   "execution_count": 53,
   "id": "c634a9ca",
   "metadata": {},
   "outputs": [],
   "source": [
    "import numpy as np"
   ]
  },
  {
   "cell_type": "code",
   "execution_count": 208,
   "id": "15dde9ce",
   "metadata": {},
   "outputs": [
    {
     "name": "stdout",
     "output_type": "stream",
     "text": [
      "0\n",
      "2\n"
     ]
    }
   ],
   "source": [
    "n_sobreviventes = 10\n",
    "print(0)\n",
    "if n_sobreviventes > 1:\n",
    "    print(np.random.randint(1, n_sobreviventes))"
   ]
  },
  {
   "cell_type": "code",
   "execution_count": 18,
   "id": "66bbb06f",
   "metadata": {},
   "outputs": [
    {
     "name": "stdout",
     "output_type": "stream",
     "text": [
      "10\n",
      "2\n",
      "2\n"
     ]
    }
   ],
   "source": [
    "n_population = len(population)\n",
    "n_parents = len(parents)\n",
    "n_survivors = len(survivors)\n",
    "print(n_population)\n",
    "print(n_parents)\n",
    "print(n_survivors)"
   ]
  },
  {
   "cell_type": "code",
   "execution_count": 19,
   "id": "a54d6fb4",
   "metadata": {},
   "outputs": [
    {
     "data": {
      "text/plain": [
       "6"
      ]
     },
     "execution_count": 19,
     "metadata": {},
     "output_type": "execute_result"
    }
   ],
   "source": [
    "10-2-2"
   ]
  },
  {
   "cell_type": "code",
   "execution_count": 209,
   "id": "f8c6d642",
   "metadata": {},
   "outputs": [
    {
     "data": {
      "text/plain": [
       "[[0,\n",
       "  0,\n",
       "  [array([[-1.1003186 ],\n",
       "          [-0.610315  ],\n",
       "          [ 0.86221135]], dtype=float32),\n",
       "   array([-0.3420352], dtype=float32)],\n",
       "  0],\n",
       " [1,\n",
       "  0,\n",
       "  [array([[ 0.93575585],\n",
       "          [ 0.93086493],\n",
       "          [-1.0081469 ]], dtype=float32),\n",
       "   array([-1.3114585], dtype=float32)],\n",
       "  0],\n",
       " [2,\n",
       "  0,\n",
       "  [array([[ 0.9301261 ],\n",
       "          [-1.0781672 ],\n",
       "          [-0.13097894]], dtype=float32),\n",
       "   array([-1.8824751], dtype=float32)],\n",
       "  0],\n",
       " [3,\n",
       "  0,\n",
       "  [array([[-0.4386024 ],\n",
       "          [-0.748278  ],\n",
       "          [-0.24542445]], dtype=float32),\n",
       "   array([0.71508086], dtype=float32)],\n",
       "  0],\n",
       " [4,\n",
       "  0,\n",
       "  [array([[-0.03973567],\n",
       "          [ 0.05013931],\n",
       "          [-0.5440227 ]], dtype=float32),\n",
       "   array([-0.18692723], dtype=float32)],\n",
       "  0],\n",
       " [5,\n",
       "  0,\n",
       "  [array([[ 0.5638161 ],\n",
       "          [-0.3636899 ],\n",
       "          [ 0.30333304]], dtype=float32),\n",
       "   array([-0.33624384], dtype=float32)],\n",
       "  0]]"
      ]
     },
     "execution_count": 209,
     "metadata": {},
     "output_type": "execute_result"
    }
   ],
   "source": [
    "new_individuos = make_new_individuos(input_shape, n_population, n_parents, n_survivors)\n",
    "new_individuos"
   ]
  },
  {
   "cell_type": "code",
   "execution_count": 213,
   "id": "7e3e161e",
   "metadata": {},
   "outputs": [
    {
     "data": {
      "text/plain": [
       "[[3,\n",
       "  10,\n",
       "  [array([[-0.5765015 ],\n",
       "          [-0.68019485],\n",
       "          [-0.65754896]], dtype=float32),\n",
       "   array([0.24223046], dtype=float32)],\n",
       "  0],\n",
       " [6,\n",
       "  10,\n",
       "  [array([[ 0.6753546 ],\n",
       "          [-0.8601773 ],\n",
       "          [ 0.44312143]], dtype=float32),\n",
       "   array([0.81248474], dtype=float32)],\n",
       "  0],\n",
       " [3,\n",
       "  10,\n",
       "  [array([[-0.57650149],\n",
       "          [-0.68019485],\n",
       "          [ 0.44312143]]),\n",
       "   array([0.81248474])],\n",
       "  0],\n",
       " [6,\n",
       "  10,\n",
       "  [array([[-0.57650149],\n",
       "          [-0.86017728],\n",
       "          [ 0.44312143]]),\n",
       "   array([0.81248474])],\n",
       "  0],\n",
       " [0,\n",
       "  0,\n",
       "  [array([[-1.1003186 ],\n",
       "          [-0.610315  ],\n",
       "          [ 0.86221135]], dtype=float32),\n",
       "   array([-0.3420352], dtype=float32)],\n",
       "  0],\n",
       " [1,\n",
       "  0,\n",
       "  [array([[ 0.93575585],\n",
       "          [ 0.93086493],\n",
       "          [-1.0081469 ]], dtype=float32),\n",
       "   array([-1.3114585], dtype=float32)],\n",
       "  0],\n",
       " [2,\n",
       "  0,\n",
       "  [array([[ 0.9301261 ],\n",
       "          [-1.0781672 ],\n",
       "          [-0.13097894]], dtype=float32),\n",
       "   array([-1.8824751], dtype=float32)],\n",
       "  0],\n",
       " [3,\n",
       "  0,\n",
       "  [array([[-0.4386024 ],\n",
       "          [-0.748278  ],\n",
       "          [-0.24542445]], dtype=float32),\n",
       "   array([0.71508086], dtype=float32)],\n",
       "  0],\n",
       " [4,\n",
       "  0,\n",
       "  [array([[-0.03973567],\n",
       "          [ 0.05013931],\n",
       "          [-0.5440227 ]], dtype=float32),\n",
       "   array([-0.18692723], dtype=float32)],\n",
       "  0],\n",
       " [5,\n",
       "  0,\n",
       "  [array([[ 0.5638161 ],\n",
       "          [-0.3636899 ],\n",
       "          [ 0.30333304]], dtype=float32),\n",
       "   array([-0.33624384], dtype=float32)],\n",
       "  0]]"
      ]
     },
     "execution_count": 213,
     "metadata": {},
     "output_type": "execute_result"
    }
   ],
   "source": [
    "new_generation = parents + survivors + new_individuos\n",
    "new_generation"
   ]
  },
  {
   "cell_type": "code",
   "execution_count": 215,
   "id": "39bbbffa",
   "metadata": {},
   "outputs": [
    {
     "data": {
      "text/plain": [
       "[[0,\n",
       "  0,\n",
       "  [array([[-0.5765015 ],\n",
       "          [-0.68019485],\n",
       "          [-0.65754896]], dtype=float32),\n",
       "   array([0.24223046], dtype=float32)],\n",
       "  1],\n",
       " [1,\n",
       "  0,\n",
       "  [array([[ 0.6753546 ],\n",
       "          [-0.8601773 ],\n",
       "          [ 0.44312143]], dtype=float32),\n",
       "   array([0.81248474], dtype=float32)],\n",
       "  1],\n",
       " [2,\n",
       "  0,\n",
       "  [array([[-0.57650149],\n",
       "          [-0.68019485],\n",
       "          [ 0.44312143]]),\n",
       "   array([0.81248474])],\n",
       "  1],\n",
       " [3,\n",
       "  0,\n",
       "  [array([[-0.57650149],\n",
       "          [-0.86017728],\n",
       "          [ 0.44312143]]),\n",
       "   array([0.81248474])],\n",
       "  1],\n",
       " [4,\n",
       "  0,\n",
       "  [array([[-1.1003186 ],\n",
       "          [-0.610315  ],\n",
       "          [ 0.86221135]], dtype=float32),\n",
       "   array([-0.3420352], dtype=float32)],\n",
       "  1],\n",
       " [5,\n",
       "  0,\n",
       "  [array([[ 0.93575585],\n",
       "          [ 0.93086493],\n",
       "          [-1.0081469 ]], dtype=float32),\n",
       "   array([-1.3114585], dtype=float32)],\n",
       "  1],\n",
       " [6,\n",
       "  0,\n",
       "  [array([[ 0.9301261 ],\n",
       "          [-1.0781672 ],\n",
       "          [-0.13097894]], dtype=float32),\n",
       "   array([-1.8824751], dtype=float32)],\n",
       "  1],\n",
       " [7,\n",
       "  0,\n",
       "  [array([[-0.4386024 ],\n",
       "          [-0.748278  ],\n",
       "          [-0.24542445]], dtype=float32),\n",
       "   array([0.71508086], dtype=float32)],\n",
       "  1],\n",
       " [8,\n",
       "  0,\n",
       "  [array([[-0.03973567],\n",
       "          [ 0.05013931],\n",
       "          [-0.5440227 ]], dtype=float32),\n",
       "   array([-0.18692723], dtype=float32)],\n",
       "  1],\n",
       " [9,\n",
       "  0,\n",
       "  [array([[ 0.5638161 ],\n",
       "          [-0.3636899 ],\n",
       "          [ 0.30333304]], dtype=float32),\n",
       "   array([-0.33624384], dtype=float32)],\n",
       "  1]]"
      ]
     },
     "execution_count": 215,
     "metadata": {},
     "output_type": "execute_result"
    }
   ],
   "source": [
    "reset_scores(new_generation)"
   ]
  },
  {
   "cell_type": "code",
   "execution_count": 22,
   "id": "c0bc3410",
   "metadata": {},
   "outputs": [],
   "source": [
    "from copy import deepcopy"
   ]
  },
  {
   "cell_type": "code",
   "execution_count": 23,
   "id": "3e8d0435",
   "metadata": {},
   "outputs": [
    {
     "data": {
      "text/plain": [
       "[[0,\n",
       "  0,\n",
       "  [array([[-0.02566028],\n",
       "          [ 0.6344907 ],\n",
       "          [ 0.42750633]], dtype=float32),\n",
       "   array([-0.7100167], dtype=float32)],\n",
       "  0],\n",
       " [1,\n",
       "  0,\n",
       "  [array([[ 0.3095641 ],\n",
       "          [-0.95928097],\n",
       "          [-1.035088  ]], dtype=float32),\n",
       "   array([0.7323673], dtype=float32)],\n",
       "  0]]"
      ]
     },
     "execution_count": 23,
     "metadata": {},
     "output_type": "execute_result"
    }
   ],
   "source": [
    "population[:2]"
   ]
  },
  {
   "cell_type": "code",
   "execution_count": 24,
   "id": "ceeb70cc",
   "metadata": {},
   "outputs": [],
   "source": [
    "teste = deepcopy(population[:2])\n",
    "teste[0][1] += 10"
   ]
  },
  {
   "cell_type": "code",
   "execution_count": 25,
   "id": "a6d1ab15",
   "metadata": {},
   "outputs": [
    {
     "data": {
      "text/plain": [
       "[[0,\n",
       "  10,\n",
       "  [array([[-0.02566028],\n",
       "          [ 0.6344907 ],\n",
       "          [ 0.42750633]], dtype=float32),\n",
       "   array([-0.7100167], dtype=float32)],\n",
       "  0],\n",
       " [1,\n",
       "  0,\n",
       "  [array([[ 0.3095641 ],\n",
       "          [-0.95928097],\n",
       "          [-1.035088  ]], dtype=float32),\n",
       "   array([0.7323673], dtype=float32)],\n",
       "  0]]"
      ]
     },
     "execution_count": 25,
     "metadata": {},
     "output_type": "execute_result"
    }
   ],
   "source": [
    "teste"
   ]
  },
  {
   "cell_type": "code",
   "execution_count": null,
   "id": "a8a18b32",
   "metadata": {},
   "outputs": [],
   "source": []
  }
 ],
 "metadata": {
  "kernelspec": {
   "display_name": "Python 3 (ipykernel)",
   "language": "python",
   "name": "python3"
  },
  "language_info": {
   "codemirror_mode": {
    "name": "ipython",
    "version": 3
   },
   "file_extension": ".py",
   "mimetype": "text/x-python",
   "name": "python",
   "nbconvert_exporter": "python",
   "pygments_lexer": "ipython3",
   "version": "3.9.7"
  }
 },
 "nbformat": 4,
 "nbformat_minor": 5
}
