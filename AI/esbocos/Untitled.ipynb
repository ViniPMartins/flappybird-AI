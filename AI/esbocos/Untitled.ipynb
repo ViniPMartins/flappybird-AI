{
 "cells": [
  {
   "cell_type": "code",
   "execution_count": 1,
   "id": "b8273523",
   "metadata": {},
   "outputs": [],
   "source": [
    "import sys\n",
    "sys.path.insert(0, 'C:/Users/vinicius_martins/Documents/GitHub/flappybird/')"
   ]
  },
  {
   "cell_type": "code",
   "execution_count": 7,
   "id": "3baa3ee6",
   "metadata": {},
   "outputs": [],
   "source": [
    "from AI import create_model, create_new_population, new_generation"
   ]
  },
  {
   "cell_type": "code",
   "execution_count": 18,
   "id": "714e30c9",
   "metadata": {},
   "outputs": [],
   "source": [
    "num_population = 10\n",
    "input_shape = 3\n",
    "num_geracoes = 1\n",
    "\n",
    "def main(model):\n",
    "    pass\n",
    "\n",
    "def calcula_geracoes():\n",
    "\n",
    "    model = create_model(input_shape)\n",
    "\n",
    "    #load_checkpoint = False\n",
    "    #if len(os.listdir('./checkpoint')) > 0 and load_checkpoint:\n",
    "    #    model = load_model(model)\n",
    "\n",
    "    global population \n",
    "    population = create_new_population(num_population, input_shape)\n",
    "\n",
    "    for g in range(num_geracoes):\n",
    "        main(model)\n",
    "\n",
    "        print(\"Geração: \", g)\n",
    "        print(\"Melhores Individuos: \")\n",
    "\n",
    "        show_individuos = 1\n",
    "\n",
    "        population_sorted = sorted(population, key=lambda x: x[1], reverse=True)\n",
    "\n",
    "        for i in range(show_individuos):\n",
    "            print(population_sorted[i][2])\n",
    "\n",
    "        global new_population\n",
    "        new_population = new_generation(population, input_shape)\n",
    "\n",
    "    #model.set_weights(population_sorted[0][2])\n",
    "    #save_model(model)"
   ]
  },
  {
   "cell_type": "code",
   "execution_count": 19,
   "id": "40b1fb16",
   "metadata": {},
   "outputs": [
    {
     "name": "stdout",
     "output_type": "stream",
     "text": [
      "Geração:  0\n",
      "Melhores Individuos: \n",
      "[array([[-0.8692676 ],\n",
      "       [ 0.28607345],\n",
      "       [ 0.6711972 ]], dtype=float32), array([-0.02052988], dtype=float32)]\n"
     ]
    }
   ],
   "source": [
    "calcula_geracoes()"
   ]
  },
  {
   "cell_type": "code",
   "execution_count": 29,
   "id": "32d1fe7d",
   "metadata": {},
   "outputs": [
    {
     "name": "stdout",
     "output_type": "stream",
     "text": [
      "[5, 0, [array([[ 1.1742741e+00],\n",
      "       [ 1.0269880e-03],\n",
      "       [-6.1704534e-01]], dtype=float32), array([-0.02531881], dtype=float32)]]\n",
      "[5, 0, [array([[ 0.74675703],\n",
      "       [-1.2138228 ],\n",
      "       [ 0.9551953 ]], dtype=float32), array([-0.00920975], dtype=float32)]]\n"
     ]
    }
   ],
   "source": [
    "i = 5\n",
    "print(population[i])\n",
    "print(new_population[i])"
   ]
  },
  {
   "cell_type": "code",
   "execution_count": null,
   "id": "6e44257c",
   "metadata": {},
   "outputs": [],
   "source": []
  }
 ],
 "metadata": {
  "kernelspec": {
   "display_name": "Python 3 (ipykernel)",
   "language": "python",
   "name": "python3"
  },
  "language_info": {
   "codemirror_mode": {
    "name": "ipython",
    "version": 3
   },
   "file_extension": ".py",
   "mimetype": "text/x-python",
   "name": "python",
   "nbconvert_exporter": "python",
   "pygments_lexer": "ipython3",
   "version": "3.9.7"
  }
 },
 "nbformat": 4,
 "nbformat_minor": 5
}
