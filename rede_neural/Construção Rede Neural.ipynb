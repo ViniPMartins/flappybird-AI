{
 "cells": [
  {
   "cell_type": "code",
   "execution_count": 1,
   "id": "af0afd29",
   "metadata": {},
   "outputs": [],
   "source": [
    "from tensorflow import keras\n",
    "import numpy as np\n",
    "from sklearn.metrics import accuracy_score\n",
    "import pandas as pd"
   ]
  },
  {
   "cell_type": "code",
   "execution_count": 531,
   "id": "191bd08e",
   "metadata": {},
   "outputs": [],
   "source": [
    "def create_model(input_shape):\n",
    "    model = keras.Sequential([\n",
    "        keras.layers.Dense(16, input_shape=(input_shape,), activation='relu'),\n",
    "        keras.layers.Dense(8, activation='relu'),\n",
    "        keras.layers.Dense(1, activation='sigmoid')\n",
    "    ])\n",
    "\n",
    "    model.compile(optimizer='adam', loss='binary_crossentropy', metrics=['accuracy'])\n",
    "    return model\n",
    "\n",
    "def create_first_generation(num_population):\n",
    "    population = np.empty(num_population, dtype=object)\n",
    "\n",
    "    for i in range(num_population):\n",
    "        model = create_model(3)\n",
    "        population[i] = (i, model)\n",
    "        \n",
    "    return population\n",
    "\n",
    "def calculate_scores(population, input_data):\n",
    "    scores = np.empty(len(population), dtype=object)\n",
    "\n",
    "    for idx, model in population:\n",
    "        predictions = model.predict(input_data, verbose=0)\n",
    "        predictions_binary = [1 if x > 0.5 else 0 for x in predictions]\n",
    "        score = accuracy_score(y, predictions_binary)\n",
    "        scores[idx] = np.array([idx, score, model])\n",
    "        \n",
    "    return scores\n",
    "   \n",
    "def crossover(weights_parents_1, weights_parents_2):\n",
    "    \n",
    "    num_params_1 = len(weights_parents_1)\n",
    "    num_params_2 = len(weights_parents_2)\n",
    "    verification = num_params_1 == num_params_2\n",
    "    assert verification, f\"A quantidade de parametros não é igual. O modelo 1 tem {num_params_1} e o modelo 2 tem {num_params_2}\"\n",
    "\n",
    "    offspring_1 = []\n",
    "    offspring_2 = []\n",
    "\n",
    "    for i in range(num_params_1):\n",
    "        parent_1 = weights_parents_1[i]\n",
    "        parent_2 = weights_parents_2[i]\n",
    "\n",
    "        mask = np.random.randint(0, 2, parent_1.shape)\n",
    "\n",
    "        offspring_1.append((parent_1*mask) + (parent_2*(1-mask)))\n",
    "        offspring_2.append((parent_2*mask) + (parent_1*(1-mask)))\n",
    "\n",
    "    return offspring_1, offspring_2\n",
    "\n",
    "def mutation(weights, mutation_rate = 0.1):\n",
    "    for i in range(len(weights)):\n",
    "\n",
    "        if len(weights[i].shape) == 1:\n",
    "            for j in range(weights[i].shape[0]):\n",
    "                if np.random.random() <= mutation_rate:\n",
    "                    new_bias = np.random.random()\n",
    "                    weights[i][j] = new_bias\n",
    "\n",
    "        else:\n",
    "            for j in range(weights[i].shape[0]):\n",
    "                for k in range(weights[i].shape[1]):\n",
    "                    if np.random.random() <= mutation_rate:\n",
    "                        new_bias = np.random.random()\n",
    "                        weights[i][j][k] = new_bias\n",
    "                        \n",
    "    return weights\n",
    "\n",
    "def new_generation(scores):\n",
    "    population_sorted = sorted(scores, key=lambda column: column[1], reverse=True)\n",
    "    \n",
    "    parents = population_sorted[:2]\n",
    "    \n",
    "    weights_parent_1 = parents[0][2].get_weights()\n",
    "    weights_parent_2 = parents[1][2].get_weights()\n",
    "    num_par_offsprings = int((len(scores)-2)/2)\n",
    "    \n",
    "    for i in range(num_par_offsprings):\n",
    "    \n",
    "        offspring_1, offspring_2 = crossover(weights_parent_1, weights_parent_2)\n",
    "        \n",
    "        offspring_1_mutation = mutation(offspring_1)\n",
    "        offspring_2_mutation = mutation(offspring_2)\n",
    "        \n",
    "        population_sorted[i+2][2].set_weights(offspring_1_mutation)\n",
    "        population_sorted[i+2+num_par_offsprings][2].set_weights(offspring_2_mutation)\n",
    "        \n",
    "    offsprings = population_sorted[2:]\n",
    "    \n",
    "    new_generation = [(x[0], x[2]) for x in parents + offsprings]\n",
    "    return new_generation"
   ]
  },
  {
   "cell_type": "markdown",
   "id": "aaed13d3",
   "metadata": {},
   "source": [
    "## Teste da geração de população, previsão e avaliação"
   ]
  },
  {
   "cell_type": "markdown",
   "id": "3d8ca2ab",
   "metadata": {},
   "source": [
    "1. Criando dados de amostra"
   ]
  },
  {
   "cell_type": "code",
   "execution_count": 383,
   "id": "027ae096",
   "metadata": {},
   "outputs": [],
   "source": [
    "np.random.seed(150)\n",
    "X = np.random.randint(0,2,size=(100,3))\n",
    "y = np.random.randint(0,2,size=(100,1))"
   ]
  },
  {
   "cell_type": "markdown",
   "id": "e5d12d71",
   "metadata": {},
   "source": [
    "2. Gerando a população"
   ]
  },
  {
   "cell_type": "code",
   "execution_count": 519,
   "id": "95fdef32",
   "metadata": {},
   "outputs": [],
   "source": [
    "num_population = 10\n",
    "population = create_first_generation(num_population)"
   ]
  },
  {
   "cell_type": "code",
   "execution_count": 520,
   "id": "e0b5cd86",
   "metadata": {},
   "outputs": [
    {
     "data": {
      "text/plain": [
       "array([(0, <keras.engine.sequential.Sequential object at 0x000001BF0BCEE9D0>),\n",
       "       (1, <keras.engine.sequential.Sequential object at 0x000001BF0C0018E0>),\n",
       "       (2, <keras.engine.sequential.Sequential object at 0x000001BF0BE618B0>),\n",
       "       (3, <keras.engine.sequential.Sequential object at 0x000001BF0BC895E0>),\n",
       "       (4, <keras.engine.sequential.Sequential object at 0x000001BF0BAE03A0>),\n",
       "       (5, <keras.engine.sequential.Sequential object at 0x000001BF0BFAB910>),\n",
       "       (6, <keras.engine.sequential.Sequential object at 0x000001BF0BADA1C0>),\n",
       "       (7, <keras.engine.sequential.Sequential object at 0x000001BF0BABC490>),\n",
       "       (8, <keras.engine.sequential.Sequential object at 0x000001BF0BECE700>),\n",
       "       (9, <keras.engine.sequential.Sequential object at 0x000001BF0C109F40>)],\n",
       "      dtype=object)"
      ]
     },
     "execution_count": 520,
     "metadata": {},
     "output_type": "execute_result"
    }
   ],
   "source": [
    "population"
   ]
  },
  {
   "cell_type": "markdown",
   "id": "d2ffc3e7",
   "metadata": {},
   "source": [
    "3. Calculando o Score da população"
   ]
  },
  {
   "cell_type": "code",
   "execution_count": 508,
   "id": "c975464a",
   "metadata": {},
   "outputs": [],
   "source": [
    "import time"
   ]
  },
  {
   "cell_type": "code",
   "execution_count": 540,
   "id": "75c36f5a",
   "metadata": {},
   "outputs": [
    {
     "name": "stdout",
     "output_type": "stream",
     "text": [
      "0.8379297256469727\n"
     ]
    }
   ],
   "source": [
    "start = time.time()\n",
    "scores = calculate_scores(population, X)\n",
    "end = time.time()\n",
    "print(end - start)"
   ]
  },
  {
   "cell_type": "code",
   "execution_count": 535,
   "id": "11910fe6",
   "metadata": {},
   "outputs": [
    {
     "data": {
      "text/plain": [
       "array([array([0, 0.53,\n",
       "              <keras.engine.sequential.Sequential object at 0x000001BF0BCEE9D0>],\n",
       "             dtype=object)                                                       ,\n",
       "       array([1, 0.58,\n",
       "              <keras.engine.sequential.Sequential object at 0x000001BF0C0018E0>],\n",
       "             dtype=object)                                                       ,\n",
       "       array([2, 0.59,\n",
       "              <keras.engine.sequential.Sequential object at 0x000001BF0BE618B0>],\n",
       "             dtype=object)                                                       ,\n",
       "       array([3, 0.53,\n",
       "              <keras.engine.sequential.Sequential object at 0x000001BF0BC895E0>],\n",
       "             dtype=object)                                                       ,\n",
       "       array([4, 0.53,\n",
       "              <keras.engine.sequential.Sequential object at 0x000001BF0BAE03A0>],\n",
       "             dtype=object)                                                       ,\n",
       "       array([5, 0.49,\n",
       "              <keras.engine.sequential.Sequential object at 0x000001BF0BFAB910>],\n",
       "             dtype=object)                                                       ,\n",
       "       array([6, 0.53,\n",
       "              <keras.engine.sequential.Sequential object at 0x000001BF0BADA1C0>],\n",
       "             dtype=object)                                                       ,\n",
       "       array([7, 0.5,\n",
       "              <keras.engine.sequential.Sequential object at 0x000001BF0BABC490>],\n",
       "             dtype=object)                                                       ,\n",
       "       array([8, 0.53,\n",
       "              <keras.engine.sequential.Sequential object at 0x000001BF0BECE700>],\n",
       "             dtype=object)                                                       ,\n",
       "       array([9, 0.53,\n",
       "              <keras.engine.sequential.Sequential object at 0x000001BF0C109F40>],\n",
       "             dtype=object)                                                       ],\n",
       "      dtype=object)"
      ]
     },
     "execution_count": 535,
     "metadata": {},
     "output_type": "execute_result"
    }
   ],
   "source": [
    "scores"
   ]
  },
  {
   "cell_type": "markdown",
   "id": "d7db27f1",
   "metadata": {},
   "source": [
    "4. Fitness da população (crossover dos melhores da população e mutação)"
   ]
  },
  {
   "cell_type": "code",
   "execution_count": 543,
   "id": "ca7932c6",
   "metadata": {},
   "outputs": [
    {
     "name": "stdout",
     "output_type": "stream",
     "text": [
      "Melhor da geração 1: [2 0.6 <keras.engine.sequential.Sequential object at 0x000001BF0BE618B0>]\n",
      "Melhor da geração 2: [2 0.6 <keras.engine.sequential.Sequential object at 0x000001BF0BE618B0>]\n",
      "Melhor da geração 3: [2 0.6 <keras.engine.sequential.Sequential object at 0x000001BF0BE618B0>]\n",
      "Melhor da geração 4: [2 0.6 <keras.engine.sequential.Sequential object at 0x000001BF0BE618B0>]\n",
      "Melhor da geração 5: [2 0.6 <keras.engine.sequential.Sequential object at 0x000001BF0BE618B0>]\n",
      "Melhor da geração 6: [2 0.6 <keras.engine.sequential.Sequential object at 0x000001BF0BE618B0>]\n",
      "Melhor da geração 7: [2 0.6 <keras.engine.sequential.Sequential object at 0x000001BF0BE618B0>]\n",
      "Melhor da geração 8: [2 0.6 <keras.engine.sequential.Sequential object at 0x000001BF0BE618B0>]\n",
      "Melhor da geração 9: [2 0.6 <keras.engine.sequential.Sequential object at 0x000001BF0BE618B0>]\n",
      "Melhor da geração 10: [2 0.6 <keras.engine.sequential.Sequential object at 0x000001BF0BE618B0>]\n"
     ]
    }
   ],
   "source": [
    "generations = 10\n",
    "\n",
    "check = []\n",
    "\n",
    "for gen in range(1,generations+1):\n",
    "    scores = calculate_scores(population, X)\n",
    "    \n",
    "    sorted_scores = sorted(scores, key=lambda pair: pair[1], reverse=True)\n",
    "    check.append(sorted_scores[0])\n",
    "    print(f'Melhor da geração {gen}: {sorted_scores[0]}')\n",
    "    \n",
    "    offsprings = new_generation(scores)\n",
    "    population = offsprings"
   ]
  },
  {
   "cell_type": "code",
   "execution_count": 382,
   "id": "2f354024",
   "metadata": {},
   "outputs": [
    {
     "data": {
      "text/plain": [
       "[array([[-0.34193313,  0.2877748 ,  0.2518332 ,  0.5396152 , -0.4088505 ,\n",
       "          0.08054898, -0.17732584,  0.03871228,  0.5243879 ,  0.9976763 ,\n",
       "          0.20517886,  0.13637185,  0.41037786, -0.21647269, -0.13388172,\n",
       "         -0.13396466],\n",
       "        [-0.2827574 , -0.10410622,  0.17025518, -0.07594103,  0.4122884 ,\n",
       "         -0.15922546, -0.39581385, -0.13039291, -0.33846936,  0.03640938,\n",
       "          0.86097735, -0.48353195,  0.87327355,  0.04393154,  0.19950782,\n",
       "          0.8943049 ],\n",
       "        [-0.06401911,  0.9786643 , -0.26104826,  0.7921498 , -0.3004123 ,\n",
       "          0.1831888 ,  0.77527267,  0.07516344,  0.12032473,  0.38133907,\n",
       "         -0.06830645, -0.04098481,  0.77400976,  0.38270807,  0.28460455,\n",
       "          0.961858  ]], dtype=float32),\n",
       " array([0.        , 0.        , 0.32203588, 0.        , 0.        ,\n",
       "        0.71846986, 0.        , 0.        , 0.        , 0.        ,\n",
       "        0.        , 0.8644288 , 0.40256566, 0.        , 0.09120336,\n",
       "        0.        ], dtype=float32),\n",
       " array([[ 0.01267791, -0.12843668,  0.2732407 ,  0.6743668 ,  0.37294495,\n",
       "          0.28496146,  0.12403011,  0.31154335],\n",
       "        [ 0.39766073,  0.41570878, -0.3563099 , -0.42424095, -0.11563969,\n",
       "         -0.25694048, -0.42908776,  0.3541516 ],\n",
       "        [-0.13433444, -0.38531518,  0.06506824,  0.4412861 ,  0.21335101,\n",
       "          0.05668926,  0.39838684,  0.13853872],\n",
       "        [-0.152771  ,  0.26164782,  0.01569784, -0.26468503,  0.4567175 ,\n",
       "         -0.49760175,  0.03992772, -0.46704662],\n",
       "        [ 0.37738138, -0.00295055,  0.04016268, -0.04155397,  0.0772773 ,\n",
       "          0.04124797,  0.36323822,  0.4508955 ],\n",
       "        [-0.4900204 , -0.04095721,  0.15768099, -0.44699   ,  0.36905968,\n",
       "          0.39465323, -0.4059819 , -0.18603754],\n",
       "        [-0.19469285,  0.0127728 ,  0.47478557, -0.29105616,  0.17739129,\n",
       "          0.7844145 ,  0.44321698, -0.35954034],\n",
       "        [ 0.40063357, -0.19864035, -0.34203088, -0.22790504,  0.00263047,\n",
       "         -0.29159164,  0.11458671,  0.14173639],\n",
       "        [-0.18989754,  0.06319177,  0.96924263,  0.59907866, -0.06432009,\n",
       "          0.2888893 , -0.14172983,  0.4157306 ],\n",
       "        [ 0.49106848, -0.16750085,  0.67308515,  0.0628792 ,  0.24113011,\n",
       "         -0.45322645, -0.19488883, -0.36827672],\n",
       "        [ 0.21801925, -0.40492964, -0.04458535, -0.38005257, -0.13238442,\n",
       "         -0.06624842,  0.11304931, -0.3729359 ],\n",
       "        [-0.06171906,  0.16383195,  0.7219833 ,  0.00303972,  0.39856195,\n",
       "         -0.35546803, -0.46753597,  0.4455434 ],\n",
       "        [ 0.15220714,  0.12920785, -0.04824531,  0.43461478, -0.09988308,\n",
       "         -0.32943702, -0.4092108 ,  0.31481647],\n",
       "        [ 0.93355167, -0.05372334,  0.255193  ,  0.19048713,  0.46838117,\n",
       "          0.06754856,  0.28670153,  0.19771302],\n",
       "        [ 0.00575447,  0.3242501 ,  0.01845088, -0.45013762, -0.40971303,\n",
       "         -0.06399608,  0.6427239 ,  0.10692275],\n",
       "        [-0.20827425, -0.27666104, -0.01134324,  0.46167302,  0.45522997,\n",
       "         -0.17538321,  0.49094427,  0.22895098]], dtype=float32),\n",
       " array([0.        , 0.        , 0.        , 0.47083998, 0.        ,\n",
       "        0.        , 0.27509767, 0.3483174 ], dtype=float32),\n",
       " array([[-0.00188106],\n",
       "        [ 0.14127094],\n",
       "        [ 0.8109468 ],\n",
       "        [ 0.49447   ],\n",
       "        [ 0.6887244 ],\n",
       "        [ 0.69947994],\n",
       "        [-0.58849466],\n",
       "        [-0.02028555]], dtype=float32),\n",
       " array([0.18946904], dtype=float32)]"
      ]
     },
     "execution_count": 382,
     "metadata": {},
     "output_type": "execute_result"
    }
   ],
   "source": [
    "check[1][2].get_weights()"
   ]
  },
  {
   "cell_type": "code",
   "execution_count": null,
   "id": "bd155903",
   "metadata": {},
   "outputs": [],
   "source": []
  }
 ],
 "metadata": {
  "kernelspec": {
   "display_name": "Python 3 (ipykernel)",
   "language": "python",
   "name": "python3"
  },
  "language_info": {
   "codemirror_mode": {
    "name": "ipython",
    "version": 3
   },
   "file_extension": ".py",
   "mimetype": "text/x-python",
   "name": "python",
   "nbconvert_exporter": "python",
   "pygments_lexer": "ipython3",
   "version": "3.9.7"
  }
 },
 "nbformat": 4,
 "nbformat_minor": 5
}
